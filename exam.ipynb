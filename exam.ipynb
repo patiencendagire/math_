{
 "cells": [
  {
   "cell_type": "markdown",
   "metadata": {},
   "source": [
    "## QUESTION 5)"
   ]
  },
  {
   "cell_type": "code",
   "execution_count": 3,
   "metadata": {},
   "outputs": [],
   "source": [
    "import numpy as np"
   ]
  },
  {
   "cell_type": "markdown",
   "metadata": {},
   "source": [
    "#### matrix as a numpy array"
   ]
  },
  {
   "cell_type": "code",
   "execution_count": 4,
   "metadata": {},
   "outputs": [
    {
     "name": "stdout",
     "output_type": "stream",
     "text": [
      "[[1.  0.2 0.5]\n",
      " [0.2 1.  0.8]\n",
      " [0.5 0.8 1. ]]\n"
     ]
    }
   ],
   "source": [
    "matrix=np. array([[1,0.2,0.5],[0.2,1,0.8],[0.5,0.8,1]])\n",
    "print(matrix)"
   ]
  },
  {
   "cell_type": "markdown",
   "metadata": {},
   "source": [
    "#### Transpose of a matrix"
   ]
  },
  {
   "cell_type": "code",
   "execution_count": 5,
   "metadata": {},
   "outputs": [
    {
     "name": "stdout",
     "output_type": "stream",
     "text": [
      "[[1.  0.2 0.5]\n",
      " [0.2 1.  0.8]\n",
      " [0.5 0.8 1. ]]\n"
     ]
    }
   ],
   "source": [
    "matrix=np. array([[1,0.2,0.5],[0.2,1,0.8],[0.5,0.8,1]])\n",
    "print(np.transpose(matrix))"
   ]
  },
  {
   "cell_type": "markdown",
   "metadata": {},
   "source": [
    "#### Transpose of a matrix"
   ]
  },
  {
   "cell_type": "code",
   "execution_count": 6,
   "metadata": {},
   "outputs": [
    {
     "name": "stdout",
     "output_type": "stream",
     "text": [
      "0.2299999999999999\n"
     ]
    }
   ],
   "source": [
    "matrix=np. array([[1,0.2,0.5],[0.2,1,0.8],[0.5,0.8,1]])\n",
    "detmatrix=np.linalg.det(matrix)\n",
    "print(detmatrix)"
   ]
  },
  {
   "cell_type": "markdown",
   "metadata": {},
   "source": [
    "##  QUESTION 6)"
   ]
  },
  {
   "cell_type": "code",
   "execution_count": 7,
   "metadata": {},
   "outputs": [],
   "source": [
    "from numpy import random"
   ]
  },
  {
   "cell_type": "markdown",
   "metadata": {},
   "source": [
    "#### possion distribution samples"
   ]
  },
  {
   "cell_type": "code",
   "execution_count": 8,
   "metadata": {},
   "outputs": [
    {
     "name": "stdout",
     "output_type": "stream",
     "text": [
      "[ 2  2  6  9  2  4  7  5  4  5  1  7  3  6  7  6  4  4  4  4  4  6  4  5\n",
      "  2  6  7  1  4  6  6  5  6  8  6  0  4  6  3  8  4  4  4  2  3  4  4  4\n",
      "  7  1  3  1  6  2  1  4  8  6  3  7  4  6  8  4  6  8  3  4  2  5  4  7\n",
      "  5  5  6  4  5  2  5  2  5  2  0  4  1  2  6  3  4  3  6  2  6  4  7  6\n",
      "  3  6  4  5  7  8  1  4  5  3  7  4  3  5  5  8  9  6  7  4  5  2  3  5\n",
      "  2  3  6  4  5  5  4  4  5  3  5  5  6  8  4  6  5  5  4  3  6  8  5  4\n",
      "  2  5  5  9  7  9  5  4  3  2  6  3  6  4  6  7  3 11  6  2  5  2  3  3\n",
      "  9  3 10  8  4  3  3 10  5  4 10  5  5  3  8  4  3  6  8  5  3  6  4  4\n",
      "  3  5  3  7  2  5  7  4  6 11  6  4  3  6  5  5  5  5  3 10  3  3  4  4\n",
      "  4  3  4  2  5  6  3  4  8  6  6  3  5  3  3  4  2  3  8  5  5  5  7  0\n",
      "  0  6  7  7  6  4  5  4  3  9  8  8  3  3  6  5  7  8  5 10  4  3  7  7\n",
      "  6  6  4  5  4  6  7  4  2  4  6  5  5  3  5  3  4  7  5  7  8  7  6  3\n",
      "  3  3  5  4  1  7 10  5  1  7  5  5  3  7  1  2  3  3  2  6  3  2  4  4\n",
      "  8  4  4  5  5  6  5  6  8  8  4  7  8  7  1  4  5  4  7  5  5  8  5  6\n",
      "  3  5  4  1  5  7  2  2  7  6  6  8  4  7  3  9  8  6  7  4  3  3  6  2\n",
      " 10  6  4  8  4  4  3  3  8  3  8  1  4  5  2  2  3  8  8  7  6  4  5  8\n",
      "  2 10  9  2  5  3  2  6  5  5  6  2  6  9  7  4  3  8  4  3  5  5  6  3\n",
      "  3  5  7  3  4  5  5  3  9  5  5  5  7  2  3  4  7  4  3  5 10  1  7  4\n",
      "  4  1  3  6  6  7  2  2  3  4  5  2  6  5  5  4  6  2  8  5  6 11  6  5\n",
      "  4  6  8  4 11  7  5  5  3  4  7  6  2  4  6  7 11  3  4  6  3  5  0  5\n",
      "  3  5  6  3  4  5  2  5  8  9  9  5  5  4  5  5  2  5  3  7  1  4  4  4\n",
      "  4  7  8  4  4  5  7  6  6  7  7  5  4 11  7  4  8  3  8  7  3  4  3 10\n",
      "  6  8  4  6  5  4  3  4  3  8  4  7  2  5  6  5  4  4  6  4  7  4  2  5\n",
      "  3  4  6 13  4  6  4  2  4 10  7  6  5  8  5  2  2  7  2  3  5  6  7  4\n",
      "  6  6  3  4  3  1  3  4  9  5  3  7  3  3  5  4  7  7  3  6  9  5  5  8\n",
      "  5  6  4  3  4  4  3  4  2  2  9  9  2  6  3  4  4  5  6  3  5  6  4  8\n",
      "  3  5  6  6  6  6  4  6  9  4  4  3  5  5  9  4  2  6  3  2  2  7  6  3\n",
      "  4  8  3  1  4  2  3  7  3  1  7  6  6  3  8  5  3  3  4  5  6  5  3  6\n",
      "  8  5  9  3  5  3  5  3  4  7  5  4  4  1  3  6  8  6 10  4  6  1  5  5\n",
      "  1  3  6  5  7  4  3  2  6  3  7  3  3  8  5  4  2  4  5  5  6  5  5  2\n",
      "  5  6  6  7  5  5  2  5  7  5  4 10  4  5  3  6  6 10  4  4  4  1  6  6\n",
      "  6  4  4  5  4  2  6  6  3  5  3  2  9  4  7  6 11  5 11  5  3  3  4  3\n",
      "  8 10  3  5  8  5  4  8  7  7  3  5  6 10  4  5  4  4  6  5  7  7  4  7\n",
      "  3  8  4  2  3  3  5  7  4  4  4  9  9  4  4  6  5  3  5  6  6  5  4  6\n",
      "  2  5  5  5  7  4  3  2  0  5  8  5  3  2  4  5  2 10  4 10  5  6  7  3\n",
      "  3 10  5  8  4  5  6  3  4 11  2  4  4  6  6  4  5  4  4  4  6  5  2  2\n",
      "  3  4  4  3  2  7  3  5  4  2  4  3  7  8  4  8  5  4  3  4  5  6  1  8\n",
      "  2  7  2  5  2  8  4  4  2  9  5  8  2  6 10  4  4  7  3  3  4  8  7  5\n",
      "  1  4  3  1  4  5 10  4  6  1  6  3  3  4  5  3  5  3  3  6  2  4  2  3\n",
      "  8  4  6  4  4  5  4  6  2  5  7  1  5  6  3  5  6  5  5  3  6  3  5  3\n",
      "  2  9  2  6  7  7  4  3  4  3  5  1  9  6  5  4  4  5 10 13  5  6  4  5\n",
      "  6  6  2  3  4  5  5  5  7  5  8  2  7  6  1  4]\n"
     ]
    }
   ],
   "source": [
    "number=random.poisson(lam=5,size=1000)\n",
    "print(number)"
   ]
  },
  {
   "cell_type": "markdown",
   "metadata": {},
   "source": [
    "#### ii)\n"
   ]
  },
  {
   "cell_type": "markdown",
   "metadata": {},
   "source": [
    "#### mean"
   ]
  },
  {
   "cell_type": "code",
   "execution_count": 9,
   "metadata": {},
   "outputs": [
    {
     "name": "stdout",
     "output_type": "stream",
     "text": [
      "<function mean at 0x000001F7490CD1C0>\n"
     ]
    }
   ],
   "source": [
    "poisson_data=random.poisson(size=1000)\n",
    "print(np.mean)"
   ]
  },
  {
   "cell_type": "markdown",
   "metadata": {},
   "source": [
    "#### variance"
   ]
  },
  {
   "cell_type": "code",
   "execution_count": 10,
   "metadata": {},
   "outputs": [
    {
     "name": "stdout",
     "output_type": "stream",
     "text": [
      "<function var at 0x000001F7490CD440>\n"
     ]
    }
   ],
   "source": [
    "poisson_data=random.poisson(size=1000)\n",
    "print(np.var)"
   ]
  },
  {
   "cell_type": "code",
   "execution_count": null,
   "metadata": {},
   "outputs": [],
   "source": []
  },
  {
   "cell_type": "markdown",
   "metadata": {},
   "source": [
    "##### ii) histogram"
   ]
  },
  {
   "cell_type": "code",
   "execution_count": 11,
   "metadata": {},
   "outputs": [],
   "source": [
    "import matplotlib.pyplot as plt"
   ]
  },
  {
   "cell_type": "code",
   "execution_count": 14,
   "metadata": {},
   "outputs": [],
   "source": [
    "import seaborn as sns"
   ]
  },
  {
   "cell_type": "code",
   "execution_count": 15,
   "metadata": {},
   "outputs": [
    {
     "data": {
      "image/png": "[encoded data removed]",
      "text/plain": [
       "<Figure size 640x480 with 1 Axes>"
      ]
     },
     "metadata": {},
     "output_type": "display_data"
    }
   ],
   "source": [
    "poisson_data=random.poisson(lam=5,size=1000)\n",
    "sns.histplot(poisson_data,bins=10,kde=False,color=\"blue\")\n",
    "plt.xlabel(\"Days\")\n",
    "plt.ylabel(\"Number of customers\")\n",
    "plt.title(\"Visualisation of the arrival of customers per day\")\n",
    "plt.show()"
   ]
  },
  {
   "cell_type": "code",
   "execution_count": null,
   "metadata": {},
   "outputs": [],
   "source": []
  }
 ],
 "metadata": {
  "kernelspec": {
   "display_name": "Python 3",
   "language": "python",
   "name": "python3"
  },
  "language_info": {
   "codemirror_mode": {
    "name": "ipython",
    "version": 3
   },
   "file_extension": ".py",
   "mimetype": "text/x-python",
   "name": "python",
   "nbconvert_exporter": "python",
   "pygments_lexer": "ipython3",
   "version": "3.13.0"
  }
 },
 "nbformat": 4,
 "nbformat_minor": 2
}
